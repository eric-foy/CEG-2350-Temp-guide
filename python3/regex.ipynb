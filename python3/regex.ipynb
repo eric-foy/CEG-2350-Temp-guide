{
 "cells": [
  {
   "cell_type": "markdown",
   "metadata": {},
   "source": [
    "## Regular Expressions \n",
    "* I tried to keep it simple, so things can be condensed.\n",
    "* Like you can \"fsm.findall(f.read)\"\n",
    "* You also do not need the \"for [item] in [list]\" but I thought it would be useful to see."
   ]
  },
  {
   "cell_type": "code",
   "execution_count": 1,
   "metadata": {},
   "outputs": [
    {
     "name": "stdout",
     "output_type": "stream",
     "text": [
      "['Lorem', 'ipsum', 'dolor', 'sit', 'amet', 'consectetur', 'adipiscing', 'elit', 'Quisque', 'quis', 'risus', 'urna', 'Praesent', 'efficitur', 'sed', 'est', 'ut', 'sagittis', 'Vivamus', 'laoreet', 'ex', 'vitae', 'metus', 'hendrerit', 'eleifend', 'Suspendisse', 'nisi', 'augue', 'fermentum', 'quis', 'efficitur', 'eget', 'facilisis', 'vel', 'purus', 'Aliquam', 'sollicitudin', 'massa', 'quis', 'bibendum', 'fringilla']\n"
     ]
    }
   ],
   "source": [
    "import re\n",
    "\n",
    "pat = r'\\w+'\n",
    "fsm = re.compile(pat)\n",
    "fileNames = ['dummy_text.txt'] # should add another example file\n",
    "for fnm in fileNames:\n",
    "  f = open(fnm)                # opens file\n",
    "  str = f.read()               # read file\n",
    "  f.close()                    # close file\n",
    "  lst = fsm.findall(str)       # uses \"pat\" the regular expression to find all occurances\n",
    "  print(lst)"
   ]
  },
  {
   "cell_type": "code",
   "execution_count": null,
   "metadata": {},
   "outputs": [],
   "source": []
  }
 ],
 "metadata": {
  "kernelspec": {
   "display_name": "Python 3",
   "language": "python",
   "name": "python3"
  },
  "language_info": {
   "codemirror_mode": {
    "name": "ipython",
    "version": 3
   },
   "file_extension": ".py",
   "mimetype": "text/x-python",
   "name": "python",
   "nbconvert_exporter": "python",
   "pygments_lexer": "ipython3",
   "version": "3.6.7"
  }
 },
 "nbformat": 4,
 "nbformat_minor": 2
}

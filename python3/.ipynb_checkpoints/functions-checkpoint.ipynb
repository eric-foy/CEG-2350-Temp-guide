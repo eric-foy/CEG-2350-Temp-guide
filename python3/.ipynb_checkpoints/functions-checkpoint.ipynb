{
 "cells": [
  {
   "cell_type": "code",
   "execution_count": 27,
   "metadata": {},
   "outputs": [
    {
     "name": "stdout",
     "output_type": "stream",
     "text": [
      "Hello -f\n"
     ]
    }
   ],
   "source": [
    "import sys;\n",
    "def main():\n",
    "    if len(sys.argv) >= 2:\n",
    "        name = sys.argv[1]\n",
    "    else:\n",
    "        name = 'World'\n",
    "    print('Hello', name)\n",
    "main()\n",
    "            "
   ]
  },
  {
   "cell_type": "code",
   "execution_count": 28,
   "metadata": {},
   "outputs": [
    {
     "name": "stdout",
     "output_type": "stream",
     "text": [
      "Hello -f\n"
     ]
    }
   ],
   "source": [
    "main()"
   ]
  },
  {
   "cell_type": "code",
   "execution_count": 31,
   "metadata": {},
   "outputs": [
    {
     "name": "stdout",
     "output_type": "stream",
     "text": [
      "3\n",
      "8\n",
      "13\n",
      "18\n",
      "23\n",
      "28\n",
      "33\n",
      "38\n",
      "43\n",
      "48\n",
      "53\n",
      "58\n",
      "63\n",
      "68\n",
      "73\n",
      "78\n",
      "83\n",
      "88\n",
      "93\n",
      "98\n"
     ]
    }
   ],
   "source": [
    "def fewNumbers(start, end, step):\n",
    "    for i in range(start, end, step) :\n",
    "        print(i);\n",
    "        \n",
    "fewNumbers(3 ,100, 5)"
   ]
  },
  {
   "cell_type": "code",
   "execution_count": 33,
   "metadata": {},
   "outputs": [
    {
     "name": "stdout",
     "output_type": "stream",
     "text": [
      "3\n",
      "8\n",
      "13\n",
      "18\n",
      "23\n",
      "28\n",
      "33\n",
      "38\n",
      "43\n",
      "48\n",
      "53\n",
      "58\n",
      "63\n",
      "68\n",
      "73\n",
      "78\n",
      "83\n",
      "88\n",
      "93\n",
      "98\n"
     ]
    }
   ],
   "source": [
    "def fewNumbers(start, end, step):\n",
    "    for i in range(start, end, step) :\n",
    "        print(i), ;\n",
    "        \n",
    "fewNumbers(3 ,100, 5)"
   ]
  },
  {
   "cell_type": "code",
   "execution_count": null,
   "metadata": {},
   "outputs": [],
   "source": []
  }
 ],
 "metadata": {
  "kernelspec": {
   "display_name": "Python 3",
   "language": "python",
   "name": "python3"
  },
  "language_info": {
   "codemirror_mode": {
    "name": "ipython",
    "version": 3
   },
   "file_extension": ".py",
   "mimetype": "text/x-python",
   "name": "python",
   "nbconvert_exporter": "python",
   "pygments_lexer": "ipython3",
   "version": "3.6.7"
  }
 },
 "nbformat": 4,
 "nbformat_minor": 2
}

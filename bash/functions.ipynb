{
 "cells": [
  {
   "cell_type": "code",
   "execution_count": 2,
   "metadata": {},
   "outputs": [
    {
     "name": "stdout",
     "output_type": "stream",
     "text": [
      "/usr/bin/bash\n",
      "foo bar bit\n",
      "foo bar bit bla\n",
      "foo bar bit\n"
     ]
    }
   ],
   "source": [
    "function example {\n",
    "    echo $0 # executing program\n",
    "    echo $1 $2 $3 # first 3 args\n",
    "    echo \"$@\" # all args\n",
    "    echo \"${@:1:3}\" # args 1 through 3\n",
    "}\n",
    "\n",
    "example foo bar bit bla"
   ]
  }
 ],
 "metadata": {
  "kernelspec": {
   "display_name": "Bash",
   "language": "bash",
   "name": "bash"
  },
  "language_info": {
   "codemirror_mode": "shell",
   "file_extension": ".sh",
   "mimetype": "text/x-sh",
   "name": "bash"
  }
 },
 "nbformat": 4,
 "nbformat_minor": 2
}
